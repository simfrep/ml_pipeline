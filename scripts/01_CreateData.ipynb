{
 "cells": [
  {
   "cell_type": "code",
   "execution_count": 11,
   "metadata": {},
   "outputs": [],
   "source": [
    "import pandas as pd\n",
    "import numpy as np"
   ]
  },
  {
   "cell_type": "code",
   "execution_count": 117,
   "metadata": {},
   "outputs": [],
   "source": [
    "#?pd.read_csv"
   ]
  },
  {
   "cell_type": "markdown",
   "metadata": {},
   "source": [
    "# Read Daily Shareprices and Quarterlöy Income statements (Source SimFin)"
   ]
  },
  {
   "cell_type": "code",
   "execution_count": 1,
   "metadata": {},
   "outputs": [],
   "source": [
    "# Import the main functionality from the SimFin Python API.\n",
    "import simfin as sf\n",
    "\n",
    "# Import names used for easy access to SimFin's data-columns.\n",
    "from simfin.names import *"
   ]
  },
  {
   "cell_type": "code",
   "execution_count": 50,
   "metadata": {},
   "outputs": [],
   "source": [
    "sf.set_data_dir('data/')"
   ]
  },
  {
   "cell_type": "code",
   "execution_count": 51,
   "metadata": {},
   "outputs": [],
   "source": [
    "#sf.load_api_key(path='../../keys/simfin.key', default_key='free')\n",
    "sf.set_api_key(api_key='free')"
   ]
  },
  {
   "cell_type": "code",
   "execution_count": 52,
   "metadata": {},
   "outputs": [
    {
     "name": "stdout",
     "output_type": "stream",
     "text": [
      "Dataset \"us-income-quarterly\" on disk (0 days old).\n",
      "- Loading from disk ... Done!\n"
     ]
    }
   ],
   "source": [
    "df = sf.load(dataset='income', variant='quarterly', market='us')"
   ]
  },
  {
   "cell_type": "code",
   "execution_count": 54,
   "metadata": {},
   "outputs": [
    {
     "name": "stdout",
     "output_type": "stream",
     "text": [
      "Dataset \"us-shareprices-daily\" on disk (0 days old).\n",
      "- Loading from disk ... Done!\n"
     ]
    }
   ],
   "source": [
    "stock = sf.load(dataset='shareprices', variant='daily', market='us')"
   ]
  },
  {
   "cell_type": "markdown",
   "metadata": {},
   "source": [
    "# Re-read Files, Parse dates and cleanup column names"
   ]
  },
  {
   "cell_type": "code",
   "execution_count": 55,
   "metadata": {},
   "outputs": [],
   "source": [
    "df = pd.read_csv(\"data/us-income-quarterly.csv\",sep=';',header=0, parse_dates=[5,6,7])\n",
    "stock = pd.read_csv(\"data/us-shareprices-daily.csv\",sep=';',header=0, parse_dates=[2])\n",
    "for s in [' ','.',',','(',')']:\n",
    "    df.columns = df.columns.str.replace(s, '')\n",
    "    stock.columns = stock.columns.str.replace(s, '')"
   ]
  },
  {
   "cell_type": "code",
   "execution_count": 13,
   "metadata": {},
   "outputs": [],
   "source": [
    "symbol = 'MSFT'"
   ]
  },
  {
   "cell_type": "code",
   "execution_count": 14,
   "metadata": {},
   "outputs": [],
   "source": [
    "msft = stock[stock.Ticker == symbol].set_index('Date')"
   ]
  },
  {
   "cell_type": "code",
   "execution_count": 15,
   "metadata": {},
   "outputs": [],
   "source": [
    "df1 = df[df.Ticker == symbol].set_index('PublishDate')"
   ]
  },
  {
   "cell_type": "code",
   "execution_count": 16,
   "metadata": {},
   "outputs": [],
   "source": [
    "df1['PublishDate'] = df1.index"
   ]
  },
  {
   "cell_type": "code",
   "execution_count": 17,
   "metadata": {},
   "outputs": [],
   "source": [
    "df1.index.name = 'Date'"
   ]
  },
  {
   "cell_type": "code",
   "execution_count": 18,
   "metadata": {},
   "outputs": [],
   "source": [
    "ms = msft.join(df1,how='left',rsuffix='inc').fillna(method='ffill')"
   ]
  },
  {
   "cell_type": "code",
   "execution_count": 19,
   "metadata": {},
   "outputs": [
    {
     "data": {
      "text/plain": [
       "(3223, 38)"
      ]
     },
     "execution_count": 19,
     "metadata": {},
     "output_type": "execute_result"
    }
   ],
   "source": [
    "ms.shape"
   ]
  },
  {
   "cell_type": "code",
   "execution_count": 20,
   "metadata": {},
   "outputs": [],
   "source": [
    "ms = ms[~ms.Tickerinc.isnull()]"
   ]
  },
  {
   "cell_type": "code",
   "execution_count": 21,
   "metadata": {},
   "outputs": [],
   "source": [
    "ms = ms.dropna(axis=1)"
   ]
  },
  {
   "cell_type": "markdown",
   "metadata": {},
   "source": [
    "# Create Target to Predict\n",
    "\n",
    "Target: Adjusted Close of Tomorrow"
   ]
  },
  {
   "cell_type": "code",
   "execution_count": 22,
   "metadata": {},
   "outputs": [],
   "source": [
    "data = ms"
   ]
  },
  {
   "cell_type": "code",
   "execution_count": 23,
   "metadata": {},
   "outputs": [],
   "source": [
    "tgt = 'AdjClose'\n",
    "data[f\"{tgt}_s1\"] = ms[tgt].shift(-1)\n",
    "\n",
    "data[f\"spread\"] = data[f\"{tgt}_s1\"] - data[tgt]\n",
    "data[f\"target\"] = data[f\"spread\"] > 0"
   ]
  },
  {
   "cell_type": "code",
   "execution_count": 24,
   "metadata": {},
   "outputs": [],
   "source": [
    "# Create Date/Timebased Features\n",
    "data['weekday'] = data.index.weekday.astype(float)\n",
    "data['dayofyear'] = data.index.dayofyear.astype(float)\n",
    "data['month'] = data.index.month.astype(float)"
   ]
  },
  {
   "cell_type": "code",
   "execution_count": 25,
   "metadata": {},
   "outputs": [],
   "source": [
    "# Create Hist. targes/values\n",
    "for var in [f\"spread\",f\"target\"]:\n",
    "    for lag in np.arange(1,10):\n",
    "        data[f\"{var}_lag{lag}\"] = data[var].shift(lag)\n",
    "\n",
    "for var in [f\"target\"]:\n",
    "    for lag in np.arange(1,10):\n",
    "        data[f\"{var}_lag{lag}\"] = data[var].shift(lag).astype(bool)        "
   ]
  },
  {
   "cell_type": "code",
   "execution_count": 26,
   "metadata": {},
   "outputs": [],
   "source": [
    "data[\"Days_Since_Report\"] = (data.index-data[\"PublishDate\"]).apply(lambda x: x.days).astype(float)"
   ]
  },
  {
   "cell_type": "code",
   "execution_count": 27,
   "metadata": {},
   "outputs": [
    {
     "data": {
      "text/plain": [
       "Date\n",
       "2007-01-24     0.0\n",
       "2007-01-25     1.0\n",
       "2007-01-26     2.0\n",
       "2007-01-29     5.0\n",
       "2007-01-30     6.0\n",
       "              ... \n",
       "2019-10-15    84.0\n",
       "2019-10-16    85.0\n",
       "2019-10-17    86.0\n",
       "2019-10-18    87.0\n",
       "2019-10-21    90.0\n",
       "Name: Days_Since_Report, Length: 3209, dtype: float64"
      ]
     },
     "execution_count": 27,
     "metadata": {},
     "output_type": "execute_result"
    }
   ],
   "source": [
    "data[\"Days_Since_Report\"]"
   ]
  },
  {
   "cell_type": "code",
   "execution_count": 28,
   "metadata": {},
   "outputs": [],
   "source": [
    "data = data.dropna()"
   ]
  },
  {
   "cell_type": "code",
   "execution_count": 29,
   "metadata": {},
   "outputs": [],
   "source": [
    "data.to_parquet(\"msft.parq\")"
   ]
  },
  {
   "cell_type": "code",
   "execution_count": 30,
   "metadata": {},
   "outputs": [
    {
     "data": {
      "text/plain": [
       "Date\n",
       "2007-02-06    False\n",
       "2007-02-07    False\n",
       "2007-02-08    False\n",
       "2007-02-09    False\n",
       "2007-02-12    False\n",
       "              ...  \n",
       "2019-10-14    False\n",
       "2019-10-15     True\n",
       "2019-10-16    False\n",
       "2019-10-17    False\n",
       "2019-10-18    False\n",
       "Name: target_lag1, Length: 3199, dtype: bool"
      ]
     },
     "execution_count": 30,
     "metadata": {},
     "output_type": "execute_result"
    }
   ],
   "source": [
    "data['target_lag1']"
   ]
  },
  {
   "cell_type": "code",
   "execution_count": 31,
   "metadata": {},
   "outputs": [
    {
     "data": {
      "text/plain": [
       "Index(['Ticker', 'SimFinId', 'Open', 'Low', 'High', 'Close', 'AdjClose',\n",
       "       'Volume', 'Tickerinc', 'SimFinIdinc', 'Currency', 'FiscalYear',\n",
       "       'FiscalPeriod', 'ReportDate', 'RestatedDate', 'SharesBasic',\n",
       "       'SharesDiluted', 'Revenue', 'CostofRevenue', 'GrossProfit',\n",
       "       'OperatingExpenses', 'SellingGeneral&Administrative',\n",
       "       'Research&Development', 'OperatingIncomeLoss',\n",
       "       'Non-OperatingIncomeLoss', 'PretaxIncomeLossAdj', 'PretaxIncomeLoss',\n",
       "       'IncomeTaxExpenseBenefitNet', 'IncomeLossfromContinuingOperations',\n",
       "       'NetIncome', 'NetIncomeCommon', 'PublishDate', 'AdjClose_s1', 'spread',\n",
       "       'target', 'weekday', 'dayofyear', 'month', 'spread_lag1', 'spread_lag2',\n",
       "       'spread_lag3', 'spread_lag4', 'spread_lag5', 'spread_lag6',\n",
       "       'spread_lag7', 'spread_lag8', 'spread_lag9', 'target_lag1',\n",
       "       'target_lag2', 'target_lag3', 'target_lag4', 'target_lag5',\n",
       "       'target_lag6', 'target_lag7', 'target_lag8', 'target_lag9',\n",
       "       'Days_Since_Report'],\n",
       "      dtype='object')"
      ]
     },
     "execution_count": 31,
     "metadata": {},
     "output_type": "execute_result"
    }
   ],
   "source": [
    "ms.columns"
   ]
  },
  {
   "cell_type": "code",
   "execution_count": 40,
   "metadata": {},
   "outputs": [
    {
     "data": {
      "text/html": [
       "<div>\n",
       "<style scoped>\n",
       "    .dataframe tbody tr th:only-of-type {\n",
       "        vertical-align: middle;\n",
       "    }\n",
       "\n",
       "    .dataframe tbody tr th {\n",
       "        vertical-align: top;\n",
       "    }\n",
       "\n",
       "    .dataframe thead th {\n",
       "        text-align: right;\n",
       "    }\n",
       "</style>\n",
       "<table border=\"1\" class=\"dataframe\">\n",
       "  <thead>\n",
       "    <tr style=\"text-align: right;\">\n",
       "      <th></th>\n",
       "      <th>Revenue</th>\n",
       "      <th>AdjClose</th>\n",
       "    </tr>\n",
       "  </thead>\n",
       "  <tbody>\n",
       "    <tr>\n",
       "      <th>Revenue</th>\n",
       "      <td>1.000000</td>\n",
       "      <td>0.884823</td>\n",
       "    </tr>\n",
       "    <tr>\n",
       "      <th>AdjClose</th>\n",
       "      <td>0.884823</td>\n",
       "      <td>1.000000</td>\n",
       "    </tr>\n",
       "  </tbody>\n",
       "</table>\n",
       "</div>"
      ],
      "text/plain": [
       "           Revenue  AdjClose\n",
       "Revenue   1.000000  0.884823\n",
       "AdjClose  0.884823  1.000000"
      ]
     },
     "metadata": {},
     "output_type": "display_data"
    },
    {
     "data": {
      "text/plain": [
       "<AxesSubplot:label='f051a302-8d5a-426d-8b7b-eb14d33f525f', xlabel='Date'>"
      ]
     },
     "execution_count": 40,
     "metadata": {},
     "output_type": "execute_result"
    },
    {
     "data": {
      "image/png": "[encoded data removed]",
      "text/plain": [
       "<Figure size 432x288 with 2 Axes>"
      ]
     },
     "metadata": {
      "needs_background": "light"
     },
     "output_type": "display_data"
    }
   ],
   "source": [
    "import matplotlib.pyplot as plt\n",
    "# create figure and axis objects with subplots()\n",
    "fig,ax = plt.subplots()\n",
    "# twin object for two different y-axis on the sample plot\n",
    "ax2=ax.twinx()\n",
    "\n",
    "display(ms[['Revenue','AdjClose']].corr())\n",
    "ms['Revenue'].plot(ax=ax,color='red')\n",
    "ms['AdjClose'].plot(ax=ax2)"
   ]
  },
  {
   "cell_type": "code",
   "execution_count": 39,
   "metadata": {},
   "outputs": [
    {
     "data": {
      "text/html": [
       "<div>\n",
       "<style scoped>\n",
       "    .dataframe tbody tr th:only-of-type {\n",
       "        vertical-align: middle;\n",
       "    }\n",
       "\n",
       "    .dataframe tbody tr th {\n",
       "        vertical-align: top;\n",
       "    }\n",
       "\n",
       "    .dataframe thead th {\n",
       "        text-align: right;\n",
       "    }\n",
       "</style>\n",
       "<table border=\"1\" class=\"dataframe\">\n",
       "  <thead>\n",
       "    <tr style=\"text-align: right;\">\n",
       "      <th></th>\n",
       "      <th>NetIncome</th>\n",
       "      <th>AdjClose</th>\n",
       "    </tr>\n",
       "  </thead>\n",
       "  <tbody>\n",
       "    <tr>\n",
       "      <th>NetIncome</th>\n",
       "      <td>1.000000</td>\n",
       "      <td>0.430255</td>\n",
       "    </tr>\n",
       "    <tr>\n",
       "      <th>AdjClose</th>\n",
       "      <td>0.430255</td>\n",
       "      <td>1.000000</td>\n",
       "    </tr>\n",
       "  </tbody>\n",
       "</table>\n",
       "</div>"
      ],
      "text/plain": [
       "           NetIncome  AdjClose\n",
       "NetIncome   1.000000  0.430255\n",
       "AdjClose    0.430255  1.000000"
      ]
     },
     "metadata": {},
     "output_type": "display_data"
    },
    {
     "data": {
      "text/plain": [
       "<AxesSubplot:label='3eb2992e-4dec-4af3-97c6-68512362544b', xlabel='Date'>"
      ]
     },
     "execution_count": 39,
     "metadata": {},
     "output_type": "execute_result"
    },
    {
     "data": {
      "image/png": "[encoded data removed]",
      "text/plain": [
       "<Figure size 432x288 with 2 Axes>"
      ]
     },
     "metadata": {
      "needs_background": "light"
     },
     "output_type": "display_data"
    }
   ],
   "source": [
    "fig,ax = plt.subplots()\n",
    "# twin object for two different y-axis on the sample plot\n",
    "ax2=ax.twinx()\n",
    "\n",
    "display(ms[['NetIncome','AdjClose']].corr())\n",
    "ms['NetIncome'].plot(ax=ax,color='red')\n",
    "ms['AdjClose'].plot(ax=ax2)"
   ]
  }
 ],
 "metadata": {
  "kernelspec": {
   "display_name": "Python 3",
   "language": "python",
   "name": "python3"
  },
  "language_info": {
   "codemirror_mode": {
    "name": "ipython",
    "version": 3
   },
   "file_extension": ".py",
   "mimetype": "text/x-python",
   "name": "python",
   "nbconvert_exporter": "python",
   "pygments_lexer": "ipython3",
   "version": "3.8.3"
  }
 },
 "nbformat": 4,
 "nbformat_minor": 4
}
