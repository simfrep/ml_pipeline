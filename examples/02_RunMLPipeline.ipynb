{
 "cells": [
  {
   "cell_type": "code",
   "execution_count": 1,
   "metadata": {},
   "outputs": [],
   "source": [
    "# import yaml\n",
    "import sys \n",
    "import os\n",
    "import logging\n",
    "import munch\n",
    "\n",
    "import yaml\n",
    "\n",
    "sys.path.append(os.path.dirname(sys.path[0]))\n",
    "\n",
    "from mlpipeline import MLPipeline\n",
    "#logging.basicConfig(format=\"%(asctime)s;%(levelname)s;%(message)s\",level=logging.DEBUG)\n",
    "logging.basicConfig(format=\"%(asctime)s;%(levelname)s;%(message)s\",level=logging.INFO)"
   ]
  },
  {
   "cell_type": "code",
   "execution_count": 2,
   "metadata": {},
   "outputs": [],
   "source": [
    "# Load Config\n",
    "c = munch.munchify(yaml.load(open('msft.yaml','r'),Loader=yaml.FullLoader))\n",
    "mp = MLPipeline(c)"
   ]
  },
  {
   "cell_type": "code",
   "execution_count": 3,
   "metadata": {},
   "outputs": [
    {
     "name": "stderr",
     "output_type": "stream",
     "text": [
      "2021-08-01 22:48:46,683;INFO;Using Split: [0.7, 0.2, 0.1]\n",
      "/home/simon/miniconda3/envs/mlpipeline/lib/python3.9/site-packages/sklearn/linear_model/_sag.py:328: ConvergenceWarning: The max_iter was reached which means the coef_ did not converge\n",
      "  warnings.warn(\"The max_iter was reached which means \"\n",
      "2021-08-01 22:48:49,872;INFO;Finished 4 of 4 model fittings (Training Begin 1/1 Model 4/4)\n",
      "2021-08-01 22:48:49,872;INFO;Finished Model Fitting.\n"
     ]
    },
    {
     "name": "stdout",
     "output_type": "stream",
     "text": [
      "CPU times: user 265 ms, sys: 72.6 ms, total: 337 ms\n",
      "Wall time: 3.48 s\n"
     ]
    }
   ],
   "source": [
    "%%time\n",
    "mp.mltrain_loop()"
   ]
  }
 ],
 "metadata": {
  "kernelspec": {
   "display_name": "Python 3 (ipykernel)",
   "language": "python",
   "name": "python3"
  },
  "language_info": {
   "codemirror_mode": {
    "name": "ipython",
    "version": 3
   },
   "file_extension": ".py",
   "mimetype": "text/x-python",
   "name": "python",
   "nbconvert_exporter": "python",
   "pygments_lexer": "ipython3",
   "version": "3.9.6"
  }
 },
 "nbformat": 4,
 "nbformat_minor": 4
}
